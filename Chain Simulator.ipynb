{
 "metadata": {
  "language_info": {
   "codemirror_mode": {
    "name": "ipython",
    "version": 3
   },
   "file_extension": ".py",
   "mimetype": "text/x-python",
   "name": "python",
   "nbconvert_exporter": "python",
   "pygments_lexer": "ipython3",
   "version": 3
  },
  "orig_nbformat": 2,
  "kernelspec": {
   "name": "python_defaultSpec_1595863983258",
   "display_name": "Python 3.7.6 64-bit ('venv': virtualenv)"
  }
 },
 "nbformat": 4,
 "nbformat_minor": 2,
 "cells": [
  {
   "cell_type": "code",
   "execution_count": 383,
   "metadata": {},
   "outputs": [],
   "source": [
    "import numpy as np\n",
    "from skimage import measure, morphology\n",
    "from scipy import signal\n",
    "import time\n",
    "import math"
   ]
  },
  {
   "cell_type": "code",
   "execution_count": 415,
   "metadata": {},
   "outputs": [],
   "source": [
    "color_codes = np.array(['0', 'J', 'R', 'G', 'B', 'Y', 'P']) # Mask for converting field to code representation\n",
    "fallable_nums = np.array([1, 2, 3, 4, 5, 6])\n",
    "no_garbage = np.array([0, 0, 2, 3, 4, 5, 6]) # Mask for seeing the field without garbage\n",
    "PUYO_TYPE = {\n",
    "    'NONE': 0,\n",
    "    'GARBAGE': 1,\n",
    "    'RED': 2,\n",
    "    'GREEN': 3,\n",
    "    'BLUE': 4,\n",
    "    'YELLOW': 5,\n",
    "    'PURPLE': 6\n",
    "}"
   ]
  },
  {
   "cell_type": "code",
   "execution_count": 416,
   "metadata": {
    "tags": []
   },
   "outputs": [
    {
     "output_type": "stream",
     "name": "stdout",
     "text": "(13, 6)\n[['0' '0' '0' '0' '0' '0']\n ['0' '0' '0' '0' '0' '0']\n ['0' '0' '0' '0' '0' '0']\n ['0' '0' '0' '0' '0' '0']\n ['0' '0' '0' '0' '0' '0']\n ['0' '0' '0' '0' '0' '0']\n ['0' '0' 'Y' '0' '0' '0']\n ['0' 'J' 'Y' '0' '0' '0']\n ['0' 'Y' 'Y' '0' '0' '0']\n ['G' 'Y' 'Y' 'J' 'J' 'P']\n ['G' 'R' 'B' 'Y' 'P' 'P']\n ['G' 'G' 'R' 'B' 'Y' 'Y']\n ['R' 'R' 'B' 'B' 'Y' 'P']]\n[[0 0 0 0 0 0]\n [0 0 0 0 0 0]\n [0 0 0 0 0 0]\n [0 0 0 0 0 0]\n [0 0 0 0 0 0]\n [0 0 0 0 0 0]\n [0 0 5 0 0 0]\n [0 0 5 0 0 0]\n [0 5 5 0 0 0]\n [3 5 5 0 0 6]\n [3 2 4 5 6 6]\n [3 3 2 4 5 5]\n [2 2 4 4 5 6]]\n"
    }
   ],
   "source": [
    "field = np.array([[0, 0, 0, 0, 0, 0],\n",
    "                  [0, 0, 0, 0, 0, 0],\n",
    "                  [0, 0, 0, 0, 0, 0],\n",
    "                  [0, 0, 0, 0, 0, 0],\n",
    "                  [0, 0, 0, 0, 0, 0],\n",
    "                  [0, 0, 0, 0, 0, 0],\n",
    "                  [0, 0, 5, 0, 0, 0],\n",
    "                  [0, 1, 5, 0, 0, 0],\n",
    "                  [0, 5, 5, 0, 0, 0],\n",
    "                  [3, 5, 5, 1, 1, 6],\n",
    "                  [3, 2, 4, 5, 6, 6],\n",
    "                  [3, 3, 2, 4, 5, 5],\n",
    "                  [2, 2, 4, 4, 5, 6]], dtype=np.uint8)\n",
    "print(field.shape)\n",
    "print(color_codes[field])"
   ]
  },
  {
   "cell_type": "markdown",
   "metadata": {},
   "source": [
    "## Check colored Puyo pops"
   ]
  },
  {
   "cell_type": "code",
   "execution_count": 417,
   "metadata": {
    "tags": []
   },
   "outputs": [
    {
     "output_type": "stream",
     "name": "stdout",
     "text": "[[ 0  0  0  0  0  0]\n [ 0  0  0  0  0  0]\n [ 0  0  0  0  0  0]\n [ 0  0  0  0  0  0]\n [ 0  0  0  0  0  0]\n [ 0  0  0  0  0  0]\n [ 0  0  1  0  0  0]\n [ 0  0  1  0  0  0]\n [ 0  1  1  0  0  0]\n [ 2  1  1  0  0  3]\n [ 2  4  5  6  3  3]\n [ 2  2  7  8  9  9]\n [10 10  8  8  9 11]]\n"
    }
   ],
   "source": [
    "# Calculated connected components\n",
    "labels = measure.label(no_garbage[field], background=0, connectivity=1)\n",
    "print(labels)"
   ]
  },
  {
   "cell_type": "code",
   "execution_count": 418,
   "metadata": {
    "tags": []
   },
   "outputs": [
    {
     "output_type": "execute_result",
     "data": {
      "text/plain": "array([[1, 6],\n       [2, 4]])"
     },
     "metadata": {},
     "execution_count": 418
    }
   ],
   "source": [
    "# Groups that are big enough to pop\n",
    "groups, count = np.unique(labels[labels != 0], return_counts=True)\n",
    "pop_labels = groups[count >= 4]\n",
    "pop_counts = count[count >= 4]\n",
    "np.array([pop_labels, pop_counts]).transpose()"
   ]
  },
  {
   "cell_type": "code",
   "execution_count": 419,
   "metadata": {
    "tags": []
   },
   "outputs": [
    {
     "output_type": "stream",
     "name": "stdout",
     "text": "2\n"
    }
   ],
   "source": [
    "# Number of colors popping\n",
    "unique = np.unique(field[np.isin(labels, pop_labels)])\n",
    "color_count = unique.shape[0]\n",
    "print(color_count)"
   ]
  },
  {
   "cell_type": "code",
   "execution_count": 420,
   "metadata": {
    "tags": []
   },
   "outputs": [
    {
     "output_type": "stream",
     "name": "stdout",
     "text": "[[False False False False False False]\n [False False False False False False]\n [False False False False False False]\n [False False False False False False]\n [False False False False False False]\n [False False False False False False]\n [False False  True False False False]\n [False False  True False False False]\n [False  True  True False False False]\n [ True  True  True False False False]\n [ True False False False False False]\n [ True  True False False False False]\n [False False False False False False]]\n"
    }
   ],
   "source": [
    "# Get where the colors are popping\n",
    "color_pop_mask = np.isin(labels, pop_labels)\n",
    "print(color_pop_mask)"
   ]
  },
  {
   "cell_type": "markdown",
   "metadata": {},
   "source": [
    "## Check Garbage Puyo Pops"
   ]
  },
  {
   "cell_type": "code",
   "execution_count": 443,
   "metadata": {
    "tags": []
   },
   "outputs": [
    {
     "output_type": "execute_result",
     "data": {
      "text/plain": "array([1, 1], dtype=uint8)"
     },
     "metadata": {},
     "execution_count": 443
    }
   ],
   "source": [
    "garbages = np.argwhere(np.isin(field, PUYO_TYPE['GARBAGE']))\n",
    "garbage_to_clear = []\n",
    "for i, pos in enumerate(garbages):\n",
    "    y, x = pos\n",
    "    if ((y > 1 and color_pop_mask[y - 1, x] == True) or (y < 12 and color_pop_mask[y + 1, x] == True) or (x > 0 and color_pop_mask[y, x - 1] == True) or (x < 6 and color_pop_mask[y, x + 1] == True)):\n",
    "        garbage_to_clear.append(i)\n",
    "\n",
    "garbages[garbage_to_clear]\n",
    "\n",
    "field[to_clear[:, 0], to_clear[:, 1]]"
   ]
  },
  {
   "cell_type": "code",
   "execution_count": 436,
   "metadata": {
    "tags": []
   },
   "outputs": [
    {
     "output_type": "stream",
     "name": "stdout",
     "text": "[[ 6  2]\n [ 7  2]\n [ 8  1]\n [ 8  2]\n [ 9  0]\n [ 9  1]\n [ 9  2]\n [10  0]\n [11  0]\n [11  1]]\n"
    }
   ],
   "source": [
    "popping_puyos = np.argwhere(color_pop_mask)"
   ]
  },
  {
   "cell_type": "code",
   "execution_count": 109,
   "metadata": {
    "tags": []
   },
   "outputs": [
    {
     "output_type": "stream",
     "name": "stdout",
     "text": "[[False False False False False False]\n [False False False False False False]\n [False False False False False False]\n [False False False False False False]\n [False False False False False False]\n [False False False False False False]\n [False False False False False False]\n [False  True False False False False]\n [False False False False False False]\n [False False False  True False False]\n [False False False False False False]\n [False False False False False False]\n [False False False False False False]]\n"
    }
   ],
   "source": [
    "# Binary dilation to get garbage Puyos that are next to popping groups\n",
    "garbage_mask = morphology.binary_dilation(color_pop_mask) * np.isin(field, PUYO_TYPE['GARBAGE'])\n",
    "print(garbage_mask)"
   ]
  },
  {
   "cell_type": "markdown",
   "metadata": {},
   "source": [
    "## Check for any Puyos that need to drop"
   ]
  },
  {
   "cell_type": "code",
   "execution_count": 211,
   "metadata": {
    "tags": []
   },
   "outputs": [
    {
     "output_type": "stream",
     "name": "stdout",
     "text": "[[-1  1 -1  1 -1 -1]\n [-1  1 -1 -1 -1 -1]\n [-1 -1  1 -1 -1 -1]\n [-1 -1  1 -1 -1  1]\n [-1 -1  1 -1 -1  1]\n [-1 -1 -1 -1 -1  1]\n [-1 -1 -1 -1 -1  1]\n [-1 -1 -1 -1 -1  1]\n [-1 -1  1 -1 -1  1]\n [-1 -1 -1  1  1  1]\n [ 1  1  1  1  1  1]\n [ 1  1  1  1  1  1]\n [ 1  1  1  1  1  1]]\n"
    }
   ],
   "source": [
    "field = np.array([[0, 1, 0, 1, 0, 0],\n",
    "                  [0, 5, 0, 0, 0, 0],\n",
    "                  [0, 0, 3, 0, 0, 0],\n",
    "                  [0, 0, 4, 0, 0, 1],\n",
    "                  [0, 0, 1, 0, 0, 1],\n",
    "                  [0, 0, 0, 0, 0, 1],\n",
    "                  [0, 0, 0, 0, 0, 1],\n",
    "                  [0, 0, 0, 0, 0, 3],\n",
    "                  [0, 0, 1, 0, 0, 4],\n",
    "                  [0, 0, 0, 1, 1, 6],\n",
    "                  [3, 2, 4, 5, 6, 6],\n",
    "                  [3, 3, 2, 4, 5, 5],\n",
    "                  [2, 2, 4, 4, 5, 6]], dtype=np.uint8)\n",
    "\n",
    "fallable_field = np.isin(field, fallable_nums).astype(np.int)\n",
    "fallable_field[fallable_field == 0] = -1\n",
    "print(fallable_field)"
   ]
  },
  {
   "cell_type": "code",
   "execution_count": 212,
   "metadata": {},
   "outputs": [
    {
     "output_type": "execute_result",
     "data": {
      "text/plain": "array([[ 1],\n       [-1]])"
     },
     "metadata": {},
     "execution_count": 212
    }
   ],
   "source": [
    "has_drop_kernel = np.array([[1], [-1]])\n",
    "has_drop_kernel"
   ]
  },
  {
   "cell_type": "code",
   "execution_count": 216,
   "metadata": {
    "tags": []
   },
   "outputs": [
    {
     "output_type": "stream",
     "name": "stdout",
     "text": "[[ 0  0  0  2  0  0]\n [ 0  2 -2  0  0  0]\n [ 0  0  0  0  0 -2]\n [ 0  0  0  0  0  0]\n [ 0  0  2  0  0  0]\n [ 0  0  0  0  0  0]\n [ 0  0  0  0  0  0]\n [ 0  0 -2  0  0  0]\n [ 0  0  2 -2 -2  0]\n [-2 -2 -2  0  0  0]\n [ 0  0  0  0  0  0]\n [ 0  0  0  0  0  0]\n [ 1  1  1  1  1  1]]\nTrue\n"
    }
   ],
   "source": [
    "corr = signal.correlate2d(fallable_field, has_drop_kernel)[1:]\n",
    "has_drop = 2 in corr\n",
    "print(corr)\n",
    "print(has_drop)\n",
    "# This has an interesting property.\n",
    "# 2 = puyos that need to drop\n",
    "# -2 = empty cells just above the surface of the stack"
   ]
  },
  {
   "cell_type": "markdown",
   "metadata": {},
   "source": [
    "## Apply Drops"
   ]
  },
  {
   "cell_type": "code",
   "execution_count": 353,
   "metadata": {
    "tags": []
   },
   "outputs": [
    {
     "output_type": "stream",
     "name": "stdout",
     "text": "0.00017189979553222656\n[[0 0 0 0 0 0]\n [0 0 0 0 0 0]\n [0 0 0 0 0 0]\n [0 0 0 0 0 1]\n [0 0 0 0 0 1]\n [0 0 0 0 0 1]\n [0 0 3 0 0 1]\n [0 0 4 0 0 3]\n [0 1 1 1 0 4]\n [0 5 1 1 1 6]\n [3 2 4 5 6 6]\n [3 3 2 4 5 5]\n [2 2 4 4 5 6]]\n"
    }
   ],
   "source": [
    "test_field = np.copy(field)\n",
    "since = time.time()\n",
    "for i in range(6):\n",
    "    col = test_field[:, i]\n",
    "    not_zero = col[col != 0]\n",
    "    # test_field[:, i] = np.concatenate((col[col == 0], col[col != 0]))\n",
    "    test_field[:, i] = 0\n",
    "    test_field[(13 - not_zero.shape[0]):, i] = not_zero\n",
    "print(time.time() - since)\n",
    "print(test_field)"
   ]
  },
  {
   "cell_type": "markdown",
   "metadata": {},
   "source": [
    "## Apply Pops"
   ]
  },
  {
   "cell_type": "code",
   "execution_count": 413,
   "metadata": {
    "tags": []
   },
   "outputs": [
    {
     "output_type": "stream",
     "name": "stdout",
     "text": "[[0 0 0 0 0 0]\n [0 0 0 0 0 0]\n [0 0 0 0 0 0]\n [0 0 0 0 0 0]\n [0 0 0 0 0 0]\n [3 0 0 0 0 0]\n [0 0 0 0 0 0]\n [0 0 0 0 0 0]\n [0 0 0 0 0 0]\n [0 0 0 0 1 6]\n [0 2 4 5 6 6]\n [0 0 2 4 5 5]\n [2 2 4 4 5 6]]\n[['0' '0' '0' '0' '0' '0']\n ['0' '0' '0' '0' '0' '0']\n ['0' '0' '0' '0' '0' '0']\n ['0' '0' '0' '0' '0' '0']\n ['0' '0' '0' '0' '0' '0']\n ['G' '0' '0' '0' '0' '0']\n ['0' '0' 'Y' '0' '0' '0']\n ['0' 'J' 'Y' '0' '0' '0']\n ['0' 'Y' 'Y' '0' '0' '0']\n ['G' 'Y' 'Y' 'J' 'J' 'P']\n ['G' 'R' 'B' 'Y' 'P' 'P']\n ['G' 'G' 'R' 'B' 'Y' 'Y']\n ['R' 'R' 'B' 'B' 'Y' 'P']]\n"
    }
   ],
   "source": [
    "field = np.array([[0, 0, 0, 0, 0, 0],\n",
    "                  [0, 0, 0, 0, 0, 0],\n",
    "                  [0, 0, 0, 0, 0, 0],\n",
    "                  [0, 0, 0, 0, 0, 0],\n",
    "                  [0, 0, 0, 0, 0, 0],\n",
    "                  [3, 0, 0, 0, 0, 0],\n",
    "                  [0, 0, 5, 0, 0, 0],\n",
    "                  [0, 1, 5, 0, 0, 0],\n",
    "                  [0, 5, 5, 0, 0, 0],\n",
    "                  [3, 5, 5, 1, 1, 6],\n",
    "                  [3, 2, 4, 5, 6, 6],\n",
    "                  [3, 3, 2, 4, 5, 5],\n",
    "                  [2, 2, 4, 4, 5, 6]], dtype=np.uint8)\n",
    "\n",
    "pop_field = np.copy(field)\n",
    "pop_field[color_pop_mask + garbage_mask] = 0\n",
    "print(pop_field)\n",
    "print(color_codes[field])"
   ]
  },
  {
   "cell_type": "code",
   "execution_count": 404,
   "metadata": {
    "tags": []
   },
   "outputs": [],
   "source": [
    "# Game constants\n",
    "CHAIN_POWER = [0, 8, 16, 32, 64, 96, 128, 160, 192, 224, 256, 288, 320, 352, 384, 416, 448, 480, 512, 544, 576, 608, 640, 672]\n",
    "COLOR_BONUS = [0, 3, 6, 12, 24]\n",
    "GROUP_BONUS = np.ones(100) * 10\n",
    "GROUP_BONUS[:7] = np.array([0, 2, 3, 4, 5, 6, 7])\n",
    "\n",
    "# Constants for simulator\n",
    "color_codes = np.array(['0', 'J', 'R', 'G', 'B', 'Y', 'P']) # Mask for converting field to code representation\n",
    "fallable_nums = np.array([1, 2, 3, 4, 5, 6])\n",
    "no_garbage = np.array([0, 0, 2, 3, 4, 5, 6]) # Mask for seeing the field without garbage\n",
    "PUYO_TYPE = {\n",
    "    'NONE': 0,\n",
    "    'GARBAGE': 1,\n",
    "    'RED': 2,\n",
    "    'GREEN': 3,\n",
    "    'BLUE': 4,\n",
    "    'YELLOW': 5,\n",
    "    'PURPLE': 6\n",
    "}\n",
    "has_drop_kernel = np.array([[1], [-1]])\n",
    "\n",
    "def _needs_drop(field: np.ndarray):\n",
    "    fallable_field = np.isin(field, fallable_nums).astype(np.int)\n",
    "    fallable_field[fallable_field == 0] = -1\n",
    "    corr = signal.correlate2d(fallable_field, has_drop_kernel)[1:]\n",
    "    return 2 in corr\n",
    "\n",
    "def _apply_drop(field: np.ndarray):\n",
    "    for i in range(6):\n",
    "        col = field[:, i]\n",
    "        not_zero = col[col != 0]\n",
    "        field[:, i] = 0\n",
    "        field[(field.shape[0] - not_zero.shape[0]):, i] = not_zero\n",
    "    return field\n",
    "\n",
    "def _analyze_pops(field: np.ndarray, puyo_to_pop=4):\n",
    "    # Calculated connected components\n",
    "    labels = measure.label(no_garbage[field], background=0, connectivity=1)\n",
    "\n",
    "    # Groups that are big enough to pop\n",
    "    groups, count = np.unique(labels[labels != 0], return_counts=True)\n",
    "    pop_labels = groups[count >= puyo_to_pop]\n",
    "    pop_counts = count[count >= puyo_to_pop]\n",
    "\n",
    "    # Has pop? Boolean variable\n",
    "    has_pops = pop_labels.shape[0] > 0\n",
    "\n",
    "    # Number of colors popping\n",
    "    unique = np.unique(field[np.isin(labels, pop_labels)])\n",
    "    color_count = unique.shape[0]\n",
    "\n",
    "    # Get where the colors are popping\n",
    "    color_pop_mask = np.isin(labels, pop_labels)\n",
    "\n",
    "    # Binary dilation to get garbage Puyos that are next to popping groups\n",
    "    garbage_mask = morphology.binary_dilation(color_pop_mask) * np.isin(field, PUYO_TYPE['GARBAGE'])\n",
    "\n",
    "    return has_pops, pop_counts, color_count, color_pop_mask, garbage_mask\n",
    "\n",
    "def _calculate_step_score(step, pop_counts, color_count, puyo_to_pop):\n",
    "    # Calculate Puyo popped\n",
    "    puyos_popped = np.sum(pop_counts)\n",
    "    \n",
    "    # Calculate Group Bonus\n",
    "    pop_count_ind = pop_counts - puyo_to_pop\n",
    "    group_bonus = np.sum(GROUP_BONUS[pop_count_ind])\n",
    "\n",
    "\n",
    "    # Calculate Color Bonus\n",
    "    color_bonus = COLOR_BONUS[color_count - 1]\n",
    "\n",
    "    # Get Chain Power\n",
    "    chain_power = CHAIN_POWER[step - 1]\n",
    "    return (10 * puyos_popped) * np.clip((chain_power + color_bonus + group_bonus), 1, 999)\n",
    "\n",
    "def simulate_chain(field: np.ndarray, step=0, puyo_to_pop=4, score=0, target_point=70):\n",
    "    # Check for drops\n",
    "    needs_drop = _needs_drop(field)\n",
    "\n",
    "    if needs_drop:\n",
    "        field = _apply_drop(field)\n",
    "    \n",
    "    # Check for pops\n",
    "    has_pops, pop_counts, color_count, color_pop_mask, garbage_mask = _analyze_pops(field, puyo_to_pop)\n",
    "\n",
    "    if has_pops:\n",
    "        current_step = step + 1 # Increase chain length\n",
    "        step_score = _calculate_step_score(current_step, pop_counts, color_count, puyo_to_pop)\n",
    "        total_score = score + step_score\n",
    "        field[color_pop_mask + garbage_mask] = 0\n",
    "        return simulate_chain(field, step=current_step, puyo_to_pop=puyo_to_pop, score=total_score, target_point=target_point)\n",
    "    else:\n",
    "        damage = math.floor(score / target_point)\n",
    "        return field, step, score, damage"
   ]
  },
  {
   "cell_type": "code",
   "execution_count": 445,
   "metadata": {
    "tags": []
   },
   "outputs": [
    {
     "output_type": "stream",
     "name": "stdout",
     "text": "1.68 ms ± 18.2 µs per loop (mean ± std. dev. of 7 runs, 1000 loops each)\nChain Length:  5\nChain Score:  5680.0\nGarbage Sent:  81\n"
    }
   ],
   "source": [
    "%timeit new_field, step, score, damage = simulate_chain(np.copy(field))\n",
    "print('Chain Length: ', step)\n",
    "print('Chain Score: ', score)\n",
    "print('Garbage Sent: ', damage)"
   ]
  }
 ]
}